{
 "cells": [
  {
   "cell_type": "code",
   "execution_count": 12,
   "metadata": {},
   "outputs": [],
   "source": [
    "import sympy as sp\n",
    "import numpy as np\n",
    "import matplotlib.pyplot as plt"
   ]
  },
  {
   "cell_type": "code",
   "execution_count": 13,
   "metadata": {},
   "outputs": [],
   "source": [
    "k, l, x0, y0, t = sp.symbols('k, l, x0, y0, t')"
   ]
  },
  {
   "cell_type": "code",
   "execution_count": 14,
   "metadata": {},
   "outputs": [],
   "source": [
    "def beta_x0_min_1(k, l, x0):\n",
    "    return (k*x0/l - 1.0)"
   ]
  },
  {
   "cell_type": "code",
   "execution_count": 15,
   "metadata": {},
   "outputs": [],
   "source": [
    "def rad_q(k, l, x0, y0):\n",
    "    beta = k/l\n",
    "    arg =  beta_x0_min_1(k, l, x0)**2 + 2.0*x0*y0*beta**2\n",
    "    return sp.sqrt(arg)"
   ]
  },
  {
   "cell_type": "code",
   "execution_count": 16,
   "metadata": {},
   "outputs": [],
   "source": [
    "def phi(k, l, x0, y0):\n",
    "    arg = beta_x0_min_1(k, l, x0) / rad_q(k, l, x0, y0)\n",
    "    return 1.0/sp.tanh(arg)"
   ]
  },
  {
   "cell_type": "code",
   "execution_count": 32,
   "metadata": {},
   "outputs": [],
   "source": [
    "def z(params, t):\n",
    "    k, l, x0, y0 = params\n",
    "    inv_beta = l/k\n",
    "    arg_tanh = 0.5*l*t*rad_q(k, l, x0, y0) - phi(k, l, x0, y0)\n",
    "    arg_1 = beta_x0_min_1(k, l, x0)\n",
    "    arg_2 = rad_q(k, l, x0, y0)*sp.tanh(arg_tanh)\n",
    "    z = (inv_beta**2)/x0*(arg_1 + arg_2)\n",
    "#     z = (arg_1 + arg_2)\n",
    "    return z"
   ]
  },
  {
   "cell_type": "code",
   "execution_count": 33,
   "metadata": {},
   "outputs": [],
   "source": [
    "def x(params, t):\n",
    "    k, l, x0, y0 = params\n",
    "    exp_arg = -k/l*z(params, t)\n",
    "    x = x0*sp.exp(exp_arg)\n",
    "    return x"
   ]
  },
  {
   "cell_type": "code",
   "execution_count": 34,
   "metadata": {},
   "outputs": [],
   "source": [
    "f_z = sp.lambdify(([k, l, x0, y0], t), z([k, l, x0, y0], t), \"numpy\")\n",
    "f_x = sp.lambdify(([k, l, x0, y0], t), x([k, l, x0, y0], t), \"numpy\")"
   ]
  },
  {
   "cell_type": "code",
   "execution_count": 35,
   "metadata": {},
   "outputs": [
    {
     "data": {
      "text/plain": [
       "[<matplotlib.lines.Line2D at 0x5a09dc8>]"
      ]
     },
     "execution_count": 35,
     "metadata": {},
     "output_type": "execute_result"
    },
    {
     "data": {
      "image/png": "[encoded data removed]",
      "text/plain": [
       "<Figure size 432x288 with 1 Axes>"
      ]
     },
     "metadata": {
      "needs_background": "light"
     },
     "output_type": "display_data"
    }
   ],
   "source": [
    "params = (1.0, 1.5, 100.0, 0.0)\n",
    "times = np.linspace(-0.1, 0.1, 100)\n",
    "plt.plot(times,f_z(params, times))\n",
    "plt.plot(times,f_x(params, times))"
   ]
  },
  {
   "cell_type": "code",
   "execution_count": null,
   "metadata": {},
   "outputs": [],
   "source": []
  }
 ],
 "metadata": {
  "kernelspec": {
   "display_name": "Python 3",
   "language": "python",
   "name": "python3"
  }
 },
 "nbformat": 4,
 "nbformat_minor": 4
}
