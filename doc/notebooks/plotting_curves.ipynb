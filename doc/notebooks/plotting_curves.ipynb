{
 "cells": [
  {
   "cell_type": "code",
   "execution_count": 1,
   "metadata": {},
   "outputs": [],
   "source": [
    "import sympy as sp\n",
    "import numpy as np\n",
    "import matplotlib.pyplot as plt"
   ]
  },
  {
   "cell_type": "code",
   "execution_count": 2,
   "metadata": {},
   "outputs": [],
   "source": [
    "N, k, l, x0, y0, t = sp.symbols('N, k, l, x0, y0, t')"
   ]
  },
  {
   "cell_type": "code",
   "execution_count": 3,
   "metadata": {},
   "outputs": [],
   "source": [
    "def beta_x0_min_1(k, l, x0):\n",
    "    return (k*x0/l - 1.0)"
   ]
  },
  {
   "cell_type": "code",
   "execution_count": 4,
   "metadata": {},
   "outputs": [],
   "source": [
    "def rad_q(k, l, x0, y0):\n",
    "    beta = k/l\n",
    "    arg =  beta_x0_min_1(k, l, x0)**2 + 2.0*x0*y0*beta**2\n",
    "    return sp.sqrt(arg)"
   ]
  },
  {
   "cell_type": "code",
   "execution_count": 5,
   "metadata": {},
   "outputs": [],
   "source": [
    "def phi(k, l, x0, y0):\n",
    "    arg = beta_x0_min_1(k, l, x0) / rad_q(k, l, x0, y0)\n",
    "    return 1.0/sp.tanh(arg)"
   ]
  },
  {
   "cell_type": "code",
   "execution_count": 6,
   "metadata": {},
   "outputs": [],
   "source": [
    "def z(params, t):\n",
    "    k, l, x0, y0 = params\n",
    "    inv_beta = l/k\n",
    "    arg_tanh = 0.5*l*t*rad_q(k, l, x0, y0) - phi(k, l, x0, y0)\n",
    "    arg_1 = beta_x0_min_1(k, l, x0)\n",
    "    arg_2 = rad_q(k, l, x0, y0)*sp.tanh(arg_tanh)\n",
    "    z = (inv_beta**2)/x0*(arg_1 + arg_2)\n",
    "#     z = (arg_1 + arg_2)\n",
    "    return z"
   ]
  },
  {
   "cell_type": "code",
   "execution_count": 7,
   "metadata": {},
   "outputs": [],
   "source": [
    "def x(params, t):\n",
    "    k, l, x0, y0 = params\n",
    "    exp_arg = -k/l*z(params, t)\n",
    "    x = x0*sp.exp(exp_arg)\n",
    "    return x"
   ]
  },
  {
   "cell_type": "code",
   "execution_count": 8,
   "metadata": {},
   "outputs": [],
   "source": [
    "def y(params, t):\n",
    "    N = params[0]\n",
    "    y = N - x(params[1:], t) - z(params[1:], t)\n",
    "    return y\n",
    "    "
   ]
  },
  {
   "cell_type": "code",
   "execution_count": 9,
   "metadata": {},
   "outputs": [],
   "source": [
    "f_z = sp.lambdify(([k, l, x0, y0], t), z([k, l, x0, y0], t), \"numpy\")\n",
    "f_x = sp.lambdify(([k, l, x0, y0], t), x([k, l, x0, y0], t), \"numpy\")\n",
    "f_y = sp.lambdify(([N, k, l, x0, y0], t), y([N, k, l, x0, y0], t), \"numpy\")"
   ]
  },
  {
   "cell_type": "code",
   "execution_count": 35,
   "metadata": {},
   "outputs": [
    {
     "name": "stdout",
     "output_type": "stream",
     "text": [
      "1.5 1000 0.1 0.0001 0.06666666666666667 1 999\n"
     ]
    }
   ],
   "source": [
    "R0 = 1.5\n",
    "N = 1000\n",
    "beta = 0.1\n",
    "k = beta/N\n",
    "gamma = beta/R0\n",
    "y0 = 1\n",
    "x0 = N-y0\n",
    "print(R0, N, beta, k, gamma, y0, x0)"
   ]
  },
  {
   "cell_type": "code",
   "execution_count": 36,
   "metadata": {},
   "outputs": [
    {
     "data": {
      "text/plain": [
       "<matplotlib.legend.Legend at 0x1ddb8e08>"
      ]
     },
     "execution_count": 36,
     "metadata": {},
     "output_type": "execute_result"
    },
    {
     "data": {
      "image/png": "[encoded data removed]",
      "text/plain": [
       "<Figure size 432x288 with 1 Axes>"
      ]
     },
     "metadata": {
      "needs_background": "light"
     },
     "output_type": "display_data"
    }
   ],
   "source": [
    "params_x_z = [k, gamma, x0, y0]\n",
    "params_y = [N] + params_x_z\n",
    "times = np.linspace(0, 300, 100)\n",
    "plt.plot(times,f_z(params_x_z, times), '--', label=\"recovered\")\n",
    "plt.plot(times,f_x(params_x_z, times), '-', label=\"susceptible\")\n",
    "plt.plot(times,f_y(params_y, times), '-.', label=\"infected\")\n",
    "plt.legend()"
   ]
  },
  {
   "cell_type": "code",
   "execution_count": null,
   "metadata": {},
   "outputs": [],
   "source": []
  }
 ],
 "metadata": {
  "kernelspec": {
   "display_name": "Python 3",
   "language": "python",
   "name": "python3"
  },
  "language_info": {
   "codemirror_mode": {
    "name": "ipython",
    "version": 3
   },
   "file_extension": ".py",
   "mimetype": "text/x-python",
   "name": "python",
   "nbconvert_exporter": "python",
   "pygments_lexer": "ipython3",
   "version": "3.7.7"
  }
 },
 "nbformat": 4,
 "nbformat_minor": 4
}
